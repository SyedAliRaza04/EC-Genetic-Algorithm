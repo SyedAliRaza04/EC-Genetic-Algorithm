{
  "nbformat": 4,
  "nbformat_minor": 0,
  "metadata": {
    "colab": {
      "provenance": []
    },
    "kernelspec": {
      "name": "python3",
      "display_name": "Python 3"
    },
    "language_info": {
      "name": "python"
    }
  },
  "cells": [
    {
      "cell_type": "code",
      "source": [
        "import random\n",
        "import matplotlib.pyplot as plt\n",
        "\n",
        "# Define the target hexagon as a list of six (x, y) coordinates\n",
        "TARGET_HEXAGON = [(0, 1), (0.87, 0.5), (0.87, -0.5), (0, -1), (-0.87, -0.5), (-0.87, 0.5), (0, 1)]\n",
        "\n",
        "# Define the size of the population and the number of generations\n",
        "POPULATION_SIZE = 50\n",
        "NUM_GENERATIONS = 1000\n",
        "\n",
        "# Define the mutation rate (i.e., the probability that a gene will mutate)\n",
        "MUTATION_RATE = 0.1\n",
        "\n",
        "# Define the fitness function, which calculates the distance between the\n",
        "# chromosome and the target hexagon\n",
        "def fitness(chromosome):\n",
        "    distance = 0\n",
        "    for i in range(len(chromosome)):\n",
        "        dx = chromosome[i][0] - TARGET_HEXAGON[i][0]\n",
        "        dy = chromosome[i][1] - TARGET_HEXAGON[i][1]\n",
        "        distance += dx*dx + dy*dy\n",
        "    return -distance  # we negate distance because we want to maximize fitness\n",
        "\n",
        "# Initialize the population with random chromosomes\n",
        "population = []\n",
        "for i in range(POPULATION_SIZE):\n",
        "    chromosome = [(random.uniform(-1, 1), random.uniform(-1, 1)) for j in range(7)]\n",
        "    population.append(chromosome)\n",
        "\n",
        "# Evolve the population using a genetic algorithm\n",
        "fitnesses = []\n",
        "for generation in range(NUM_GENERATIONS):\n",
        "    # Calculate the fitness of each chromosome in the population\n",
        "    fitnesses = [fitness(chromosome) for chromosome in population]\n",
        "\n",
        "    # Select the parents for the next generation using tournament selection\n",
        "    parent_indices = []\n",
        "    for i in range(POPULATION_SIZE):\n",
        "        population_indices = random.sample(range(POPULATION_SIZE), 3)\n",
        "        population_fitnesses = [fitnesses[j] for j in population_indices]\n",
        "        winner_index = population_indices[population_fitnesses.index(max(population_fitnesses))]\n",
        "        parent_indices.append(winner_index)\n",
        "\n",
        "    # Create the next generation using crossover and mutation\n",
        "    next_generation = []\n",
        "    for i in range(POPULATION_SIZE // 2):\n",
        "        parent1_index = parent_indices[random.randint(0, POPULATION_SIZE - 1)]\n",
        "        parent2_index = parent_indices[random.randint(0, POPULATION_SIZE - 1)]\n",
        "        # crossover\n",
        "        parent1 = population[parent1_index]\n",
        "        parent2 = population[parent2_index]\n",
        "        child1 = parent1[:3] + parent2[3:]\n",
        "        child2 = parent2[:3] + parent1[3:]\n",
        "        # Mutation\n",
        "        child1 = [(x + random.uniform(-0.1, 0.1), y + random.uniform(-0.1, 0.1)) for (x, y) in child1]\n",
        "        child2 = [(x + random.uniform(-0.1, 0.1), y + random.uniform(-0.1, 0.1)) for (x, y) in child2]\n",
        "        next_generation.append(child1)\n",
        "        next_generation.append(child2)\n",
        "\n",
        "    # Replace the old population with the new generation\n",
        "    population = next_generation\n",
        "\n",
        "    # Print the best fitness in this generation\n",
        "    best_fitness = max(fitnesses)\n",
        "    # print(f\"Generation {generation}: Best fitness = {best_fitness:.2f}\")\n",
        "\n",
        "    # Add the best fitness to the list of fitnesses for plotting\n",
        "    fitnesses.append(best_fitness)"
      ],
      "metadata": {
        "id": "LGJbL3OKzeuT"
      },
      "execution_count": 81,
      "outputs": []
    },
    {
      "cell_type": "code",
      "source": [
        "import matplotlib.pyplot as plt\n",
        "\n",
        "# Plot the target hexagon\n",
        "x_values = [coord[0] for coord in TARGET_HEXAGON]\n",
        "y_values = [coord[1] for coord in TARGET_HEXAGON]\n",
        "plt.plot(x_values, y_values, color='green')\n",
        "\n",
        "# Plot the best chromosome found by the genetic algorithm\n",
        "best_chromosome = max(population, key=fitness)\n",
        "x_values = [coord[0] for coord in best_chromosome]\n",
        "y_values = [coord[1] for coord in best_chromosome]\n",
        "plt.plot(x_values, y_values, color='red')\n",
        "\n",
        "# Set the limits of the plot\n",
        "plt.xlim(-1.5, 1.5)\n",
        "plt.ylim(-1.5, 1.5)\n",
        "\n",
        "# Add a title and labels to the axes\n",
        "plt.title(\"Target hexagon and best solution found by genetic algorithm\")\n",
        "plt.xlabel(\"X coordinate\")\n",
        "plt.ylabel(\"Y coordinate\")\n",
        "\n",
        "# Display the plot\n",
        "plt.show()"
      ],
      "metadata": {
        "colab": {
          "base_uri": "https://localhost:8080/",
          "height": 295
        },
        "id": "QG2dtAmh4lut",
        "outputId": "f621c06c-a02c-48c8-dce8-9ff520208de7"
      },
      "execution_count": 82,
      "outputs": [
        {
          "output_type": "display_data",
          "data": {
            "text/plain": [
              "<Figure size 432x288 with 1 Axes>"
            ],
            "image/png": "[encoded data removed]"
          },
          "metadata": {
            "needs_background": "light"
          }
        }
      ]
    },
    {
      "cell_type": "code",
      "source": [],
      "metadata": {
        "id": "XXsyCItz4qYL"
      },
      "execution_count": 78,
      "outputs": []
    }
  ]
}